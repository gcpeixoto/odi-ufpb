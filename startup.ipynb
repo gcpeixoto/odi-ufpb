{
 "cells": [
  {
   "cell_type": "markdown",
   "id": "a22375a7-7a49-403b-a56e-322ce1a53bbb",
   "metadata": {},
   "source": [
    "## Build directory tree\n",
    "\n",
    "This notebook just invokes the script `setup-dir.py` to build the directory tree if your preference is to work based on Jupyter notebooks. "
   ]
  },
  {
   "cell_type": "code",
   "execution_count": 1,
   "id": "1929824e-f553-45e4-a0ea-624ef389c3ed",
   "metadata": {},
   "outputs": [
    {
     "name": "stdout",
     "output_type": "stream",
     "text": [
      "Parent directory './misc' already exists.\n",
      "Parent directory './pkl' already exists.\n",
      "Parent directory './csv' already exists.\n",
      "Parent directory './xlsx' already exists.\n",
      "Child directory './xlsx/no-class' already exists.\n",
      "Child directory './xlsx/the' already exists.\n",
      "Child directory './xlsx/qs' already exists.\n",
      "Child directory './xlsx/no-class/staff' already exists.\n",
      "Child directory './xlsx/no-class/undergrads' already exists.\n",
      "Child directory './xlsx/no-class/grads' already exists.\n",
      "Child directory './xlsx/the/staff' already exists.\n",
      "Child directory './xlsx/the/undergrads' already exists.\n",
      "Child directory './xlsx/the/grads' already exists.\n",
      "Child directory './xlsx/qs/staff' already exists.\n",
      "Child directory './xlsx/qs/undergrads' already exists.\n",
      "Child directory './xlsx/qs/grads' already exists.\n"
     ]
    }
   ],
   "source": [
    "%run 'setup-dir.py'"
   ]
  }
 ],
 "metadata": {
  "kernelspec": {
   "display_name": "Python 3 (ipykernel)",
   "language": "python",
   "name": "python3"
  },
  "language_info": {
   "codemirror_mode": {
    "name": "ipython",
    "version": 3
   },
   "file_extension": ".py",
   "mimetype": "text/x-python",
   "name": "python",
   "nbconvert_exporter": "python",
   "pygments_lexer": "ipython3",
   "version": "3.7.12"
  }
 },
 "nbformat": 4,
 "nbformat_minor": 5
}
