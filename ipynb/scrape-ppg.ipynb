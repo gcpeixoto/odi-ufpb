{
 "cells": [
  {
   "cell_type": "markdown",
   "id": "19538ffe-0f5b-48ff-afec-19c9edfcde1d",
   "metadata": {},
   "source": [
    "# UFPB Researcher Hub\n",
    "\n",
    "**Objective:** this script is intended to scrape UFPB active researcher databases and build a dataframe of research subjects they work with so that we can find research clusters and build a primary hub for international future purposes."
   ]
  },
  {
   "cell_type": "code",
   "execution_count": null,
   "id": "2a91616a-9439-4c70-9635-bfec742b0dab",
   "metadata": {},
   "outputs": [],
   "source": [
    "from urllib.request import urlopen\n",
    "from bs4 import BeautifulSoup\n",
    "import pandas as pd\n",
    "import numpy as np\n",
    "import re, pickle, os"
   ]
  },
  {
   "cell_type": "code",
   "execution_count": null,
   "id": "f3b61615-6500-447e-8980-66e621209997",
   "metadata": {},
   "outputs": [],
   "source": [
    "researcher_str = 'ufpb-researcher-staff'"
   ]
  },
  {
   "cell_type": "markdown",
   "id": "74f061ec-2637-46db-a7ee-afdf1eb33808",
   "metadata": {},
   "source": [
    "## Scrape UFPB's professor staff list \n",
    "\n",
    "- Data retrieval occurs: \n",
    "    - either by web scraping Department's websites\n",
    "    - or by loading pre-serialized data (if any)\n",
    "\n",
    "- Use `scrape_on=True` for updated web scraping"
   ]
  },
  {
   "cell_type": "code",
   "execution_count": null,
   "id": "449bc418-e491-4ef9-8646-b7c9300cfaf3",
   "metadata": {},
   "outputs": [],
   "source": [
    "# read list of departments and their associated links\n",
    "ppg_list = pd.read_csv('../input/lista-ppg-THE.csv',delimiter=';')\n",
    "\n",
    "# if on, retrieve data from UFPB portal\n",
    "scrape_on = False"
   ]
  },
  {
   "cell_type": "code",
   "execution_count": null,
   "id": "b4cd567a-ff2c-4280-a3bf-91922224ef64",
   "metadata": {},
   "outputs": [],
   "source": [
    "# staff list\n",
    "staff_base_link = 'https://sigaa.ufpb.br/sigaa/public/programa/equipe.jsf?lc=pt_BR&id='"
   ]
  },
  {
   "cell_type": "markdown",
   "id": "732d35d5-55eb-4424-af7b-8f4312915182",
   "metadata": {},
   "source": [
    "## Identify particular PPGs with nonstandard SIGAA URL"
   ]
  },
  {
   "cell_type": "code",
   "execution_count": null,
   "id": "cfe37127-532e-4b92-b13b-75460df4b37b",
   "metadata": {},
   "outputs": [],
   "source": [
    "exception = ppg_list[ppg_list['nome_curso_posgrad'].str.contains(\n",
    "    'DESENVOLVIMENTO E MEIO AMBIENTE/REDE|ENGENHARIA DE PRODUÇÃO E SISTEMAS')]\n",
    "out_of_parsing = exception.index.to_list()\n",
    "\n",
    "# TODO\n",
    "# ppgeps = 'http://www.ct.ufpb.br/ppgeps/contents/menu/corpo%20docente'"
   ]
  },
  {
   "cell_type": "code",
   "execution_count": null,
   "id": "2ad9e0a7-3db5-45ba-9906-c680b1b5f999",
   "metadata": {},
   "outputs": [],
   "source": [
    "ppg_name = []\n",
    "url_staff = []\n",
    "for i in range(len(ppg_list)): \n",
    "    if i not in out_of_parsing:\n",
    "        ppg_name.append(ppg_list['nome_curso_posgrad'][i])\n",
    "        _,nid = ppg_list['url_curso_posgrad'][i].split('id=')\n",
    "        url_staff.append(staff_base_link + nid)"
   ]
  },
  {
   "cell_type": "code",
   "execution_count": null,
   "id": "8d8961ba-ca3e-4920-9c9f-939046624231",
   "metadata": {},
   "outputs": [],
   "source": [
    "staff_pkl = os.path.join(os.pardir,'pkl',researcher_str + '.pkl')\n",
    "\n",
    "if scrape_on:\n",
    "\n",
    "    data = {}\n",
    "    for i in range(len(ppg_name)):    \n",
    "        html = urlopen(url_staff[i])\n",
    "        bs = BeautifulSoup(html.read(),'html.parser')\n",
    "        staff = bs.body.find_all('a',{\"class\": \"cor\"})\n",
    "\n",
    "        members = []\n",
    "        member_page = []\n",
    "        for s in staff:\n",
    "            members.append(s.getText().strip())\n",
    "            a,b = s['href'].split('portal')            \n",
    "            member_page.append('https://sigaa.ufpb.br' + a + 'pesquisa' + b)\n",
    "\n",
    "        data[ppg_name[i]] = {'members':members,'member_page':member_page}\n",
    "        \n",
    "    # pickle data          \n",
    "    with open(staff_pkl,'wb') as f:\n",
    "        pickle.dump(data,file=f)\n",
    "\n",
    "else:\n",
    "    # load data\n",
    "    with open(staff_pkl,'rb') as f:\n",
    "        data = pickle.load(f,encoding='utf8')"
   ]
  },
  {
   "cell_type": "code",
   "execution_count": null,
   "id": "2b3fa031-3b53-48b1-a4ad-2d18e3b7763c",
   "metadata": {},
   "outputs": [],
   "source": [
    "for k in data.keys():\n",
    "    aux = []\n",
    "    for m in range(len(data[k]['member_page'])):\n",
    "        print(m,end=' ')\n",
    "        html = urlopen(data[k]['member_page'][m])\n",
    "        bs = BeautifulSoup(html.read(),'html.parser')\n",
    "        area = bs.body.find_all('td',{\"class\": \"area\"})\n",
    "        knowledge_areas = list(set([a.getText().strip() for a in area]))\n",
    "        aux.append(knowledge_areas)        \n",
    "    data[k].update({'areas':aux})\n",
    "    print((k,'concluded'))\n",
    "    \n",
    "# pickle data          \n",
    "with open(staff_pkl,'wb') as f:\n",
    "    pickle.dump(data,file=f)    "
   ]
  },
  {
   "cell_type": "markdown",
   "id": "ef2d5a89-9f96-4edc-a194-f2846f8339c8",
   "metadata": {},
   "source": [
    "## PPGEPS: particular case\n",
    "\n",
    "PPGEPS's scraping needs some manual handling because its website is nonstandard.  This way, we:\n",
    "\n",
    "1. mine the website on CT to get the staff\n",
    "2. manually search for their SIGAA public page\n",
    "3. scrape SIGAA to get their knowledge areas. \n",
    "4. update the database and pickle."
   ]
  },
  {
   "cell_type": "code",
   "execution_count": null,
   "id": "3cdb7ae7-2cf1-45ad-a23a-b276faf3c571",
   "metadata": {},
   "outputs": [],
   "source": [
    "# manual treatment\n",
    "ppgeps = 'http://www.ct.ufpb.br/ppgeps/contents/menu/corpo%20docente'\n",
    "get = BeautifulSoup(urlopen(ppgeps).read(),'html.parser').body.find_all('p',{\"class\": \"callout\"})\n",
    "ppgeps_names = []\n",
    "for t in get:\n",
    "    ppgeps_names.append(t.getText().strip().split('\\xa0\\xa0')[0].upper())\n",
    "    \n",
    "ppgeps_sites = [\n",
    "    'https://sigaa.ufpb.br/sigaa/public/docente/pesquisa.jsf?siape=1859144',\n",
    "    'https://sigaa.ufpb.br/sigaa/public/docente/pesquisa.jsf?siape=1642093',\n",
    "    'https://sigaa.ufpb.br/sigaa/public/docente/pesquisa.jsf?siape=2366533',\n",
    "    'https://sigaa.ufpb.br/sigaa/public/docente/pesquisa.jsf?siape=1605391',\n",
    "    'https://sigaa.ufpb.br/sigaa/public/docente/pesquisa.jsf?siape=6336620',\n",
    "    'https://sigaa.ufpb.br/sigaa/public/docente/pesquisa.jsf?siape=1298891',\n",
    "    'https://sigaa.ufpb.br/sigaa/public/docente/pesquisa.jsf?siape=2225575',\n",
    "    'https://sigaa.ufpb.br/sigaa/public/docente/pesquisa.jsf?siape=2317198',\n",
    "    'https://sigaa.ufpb.br/sigaa/public/docente/pesquisa.jsf?siape=1217340',\n",
    "    'https://sigaa.ufpb.br/sigaa/public/docente/pesquisa.jsf?siape=2348485']\n",
    "\n",
    "# append to data\n",
    "data['ENGENHARIA DE PRODUÇÃO E SISTEMAS'] = {'members':ppgeps_names,\n",
    "                                             'member_page':ppgeps_sites}\n",
    "\n",
    "# get knowledge areas\n",
    "aux = []\n",
    "for m in range(len(data['ENGENHARIA DE PRODUÇÃO E SISTEMAS']['member_page'])):    \n",
    "    html = urlopen(data['ENGENHARIA DE PRODUÇÃO E SISTEMAS']['member_page'][m])\n",
    "    bs = BeautifulSoup(html.read(),'html.parser')\n",
    "    area = bs.body.find_all('td',{\"class\": \"area\"})\n",
    "    knowledge_areas = list(set([a.getText().strip() for a in area]))\n",
    "    aux.append(knowledge_areas)        \n",
    "data['ENGENHARIA DE PRODUÇÃO E SISTEMAS'].update({'areas':aux})"
   ]
  },
  {
   "cell_type": "markdown",
   "id": "96f19b0a-4ae7-43b5-ba80-bc25330d677c",
   "metadata": {},
   "source": [
    "## PRODEMA/REDE: particular case\n",
    "\n",
    "PRODEMA/REDE's scraping needs some manual handling because its website is nonstandard. All scrape is manual..."
   ]
  },
  {
   "cell_type": "code",
   "execution_count": null,
   "id": "8330a41d-7680-4a1b-9561-378232226463",
   "metadata": {},
   "outputs": [],
   "source": [
    "prodema_names = [\n",
    "    'BARTOLOMEU ISRAEL DE SOUZA',\n",
    "    'EDUARDO RODRIGUES VIANA DE LIMA',\n",
    "    'JOEL SILVA DOS SANTOS',\n",
    "    'LUIZ CARLOS SERRAMO LOPEZ',\n",
    "    'MARIA CRISTINA BASILIO CRISPIM DA SILVA',\n",
    "    'MARILIA GABRIELA DOS SANTOS CAVALCANTI',\n",
    "    #'MARISTELA OLIVEIRA DE ANDRADE', # not found on SIGAA\n",
    "    'NATALY ALBUQUERQUE DOS SANTOS',\n",
    "    'RAIMUNDO APRIGIO DE MENEZES JUNIOR',\n",
    "    #'REINALDO FARIAS PAIVA DE LUCENA' # not found on SIGAA\n",
    "]\n",
    "\n",
    "prodema_sites = [\n",
    "    'https://sigaa.ufpb.br/sigaa/public/docente/pesquisa.jsf?siape=4201553',\n",
    "    'https://sigaa.ufpb.br/sigaa/public/docente/pesquisa.jsf?siape=338351',\n",
    "    'https://sigaa.ufpb.br/sigaa/public/docente/pesquisa.jsf?siape=2560868',\n",
    "    'https://sigaa.ufpb.br/sigaa/public/docente/pesquisa.jsf?siape=1668604',\n",
    "    'https://sigaa.ufpb.br/sigaa/public/docente/pesquisa.jsf?siape=2335304',\n",
    "    'https://sigaa.ufpb.br/sigaa/public/docente/pesquisa.jsf?siape=1644565',\n",
    "    'https://sigaa.ufpb.br/sigaa/public/docente/pesquisa.jsf?siape=1964406',\n",
    "    'https://sigaa.ufpb.br/sigaa/public/docente/pesquisa.jsf?siape=1866226']\n",
    "    \n",
    "# append to data\n",
    "data['DESENVOLVIMENTO E MEIO AMBIENTE/REDE'] = {'members':prodema_names,\n",
    "                                             'member_page':prodema_sites}\n",
    "\n",
    "# get knowledge areas\n",
    "aux = []\n",
    "for m in range(len(data['DESENVOLVIMENTO E MEIO AMBIENTE/REDE']['member_page'])):    \n",
    "    html = urlopen(data['DESENVOLVIMENTO E MEIO AMBIENTE/REDE']['member_page'][m])\n",
    "    bs = BeautifulSoup(html.read(),'html.parser')\n",
    "    area = bs.body.find_all('td',{\"class\": \"area\"})\n",
    "    knowledge_areas = list(set([a.getText().strip() for a in area]))\n",
    "    aux.append(knowledge_areas)        \n",
    "data['DESENVOLVIMENTO E MEIO AMBIENTE/REDE'].update({'areas':aux})\n"
   ]
  },
  {
   "cell_type": "markdown",
   "id": "85db6d9e-6165-4105-9a59-44f1a41b8227",
   "metadata": {},
   "source": [
    "## Repickling\n",
    "\n",
    "Pickle again to include manually scraped PPGs."
   ]
  },
  {
   "cell_type": "code",
   "execution_count": null,
   "id": "336ea8ee-888b-4626-8054-93792e16cf7f",
   "metadata": {},
   "outputs": [],
   "source": [
    "# pickle data          \n",
    "with open(staff_pkl,'wb') as f:\n",
    "    pickle.dump(data,file=f)    "
   ]
  },
  {
   "cell_type": "markdown",
   "id": "99207b60-d150-4fe2-b730-5e99f012e56a",
   "metadata": {},
   "source": [
    "## Unfolding data to form single dataframe"
   ]
  },
  {
   "cell_type": "code",
   "execution_count": null,
   "id": "4301e259-945a-47bf-a492-e85253524122",
   "metadata": {},
   "outputs": [],
   "source": [
    "ppg,researcher,homepage,keywords = [],[],[],[]\n",
    "for k in data.keys():\n",
    "    members = data[k]['members']\n",
    "    sites = data[k]['member_page']\n",
    "    \n",
    "    for _ in range(len(members)):\n",
    "        ppg.append(k) # replicate PPG name\n",
    "        researcher.append(members[_]) # member name\n",
    "        homepage.append(sites[_]) # member SIGAA page\n",
    "    \n",
    "    each_area = data[k]['areas']\n",
    "    for ea in each_area:\n",
    "        keywords.append(', '.join(ea))    "
   ]
  },
  {
   "cell_type": "code",
   "execution_count": null,
   "id": "880d95f2-2f4e-474e-a279-6d343e55e266",
   "metadata": {},
   "outputs": [],
   "source": [
    "# create dataframe\n",
    "PPG_database = pd.DataFrame({'PPG':ppg,\n",
    "                             'Membro':researcher,\n",
    "                             'Temas':keywords,\n",
    "                             'Site':homepage}).sort_values(by='PPG').reset_index(drop=True)"
   ]
  },
  {
   "cell_type": "markdown",
   "id": "1727bca9-54f5-41d3-a9ca-4845bbb1d3f5",
   "metadata": {},
   "source": [
    "## Breaking list of _n_ keywords into _n_ columns"
   ]
  },
  {
   "cell_type": "code",
   "execution_count": null,
   "id": "04aaefb6-220b-4c10-b32b-8855bfd5b33d",
   "metadata": {},
   "outputs": [],
   "source": [
    "themes = PPG_database['Temas'].str.split(',')\n",
    "\n",
    "# biggest string\n",
    "maxc = max([max(list(map(len,i))) for i in themes])\n",
    "\n",
    "# get maximum number of keywords among all researchers\n",
    "sizes = list(map(len,themes))\n",
    "n_max_keys = max(sizes)\n",
    "\n",
    "# create empty matrix \n",
    "matrix = np.full(shape=(len(themes),n_max_keys),fill_value='0'*maxc)\n",
    "\n",
    "# fill matrix\n",
    "for row in range(len(themes)):\n",
    "    for col in range(sizes[row]):\n",
    "        matrix[row,col] = themes[row][col].strip()\n",
    "        \n",
    "# form dict to create dataframe        \n",
    "dict_keywords = {}\n",
    "for col in range(matrix.shape[1]):\n",
    "    dict_keywords[f'Tema {col+1}'] = matrix[:,col]\n",
    "\n",
    "# keywords dataframe\n",
    "df_keys = pd.DataFrame(dict_keywords).replace('0'*maxc,'')"
   ]
  },
  {
   "cell_type": "markdown",
   "id": "548f1d04-cf9f-4f3b-98fe-ad8fff8536d4",
   "metadata": {},
   "source": [
    "## Create new dataframe with separated research subjects\n",
    "\n",
    "- `PPG_database_gross` includes all researchers, even those who did not fill information on SIGAA.\n",
    "\n",
    "- `PPG_database_net` excludes researchers who did not fill information on SIGAA."
   ]
  },
  {
   "cell_type": "code",
   "execution_count": null,
   "id": "ed60d5ba-a167-42d6-9f15-8f0e02125065",
   "metadata": {},
   "outputs": [],
   "source": [
    "# remove 'Temas' to merge separated 'Temas'\n",
    "PPG_database = PPG_database.drop(columns='Temas')\n",
    "PPG_database_gross = pd.concat([PPG_database,df_keys],axis=1)"
   ]
  },
  {
   "cell_type": "code",
   "execution_count": null,
   "id": "0a741e78-4a55-4820-bc01-65a0ac645aa8",
   "metadata": {},
   "outputs": [],
   "source": [
    "# exclude all empty \n",
    "empty = PPG_database_gross.filter(axis=1,items=[f'Tema {col+1}' for col in range(matrix.shape[1])])\n",
    "\n",
    "to_exclude = []\n",
    "for i in range(len(empty)):\n",
    "    aux = empty.iloc[i].apply(lambda x: x == '')\n",
    "    if all(aux):\n",
    "        to_exclude.append(i)\n",
    "        \n",
    "print(f'Exclusion rate: {len(to_exclude)/len(PPG_database_gross)*100:.0f}%\\\n",
    " ({len(to_exclude)} of {len(PPG_database_gross)})')\n",
    "\n",
    "# net database\n",
    "PPG_database_net = PPG_database_gross.drop(to_exclude).reset_index(drop=True)"
   ]
  },
  {
   "cell_type": "markdown",
   "id": "2f6b678a-1446-4664-b8fd-01c79cab0286",
   "metadata": {},
   "source": [
    "## Export dataframes to CSV"
   ]
  },
  {
   "cell_type": "code",
   "execution_count": null,
   "id": "c299863c-e94c-4976-89ee-23f4e925e07b",
   "metadata": {},
   "outputs": [],
   "source": [
    "PPG_database_gross.to_csv('../csv/PPG-RESEARCH-HUB-GROSS.csv',index=False)\n",
    "PPG_database_net.to_csv('../csv/PPG-RESEARCH-HUB-NET.csv',index=False)"
   ]
  }
 ],
 "metadata": {
  "kernelspec": {
   "display_name": "Python 3 (ipykernel)",
   "language": "python",
   "name": "python3"
  },
  "language_info": {
   "codemirror_mode": {
    "name": "ipython",
    "version": 3
   },
   "file_extension": ".py",
   "mimetype": "text/x-python",
   "name": "python",
   "nbconvert_exporter": "python",
   "pygments_lexer": "ipython3",
   "version": "3.7.12"
  }
 },
 "nbformat": 4,
 "nbformat_minor": 5
}
