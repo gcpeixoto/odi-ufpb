{
 "cells": [
  {
   "cell_type": "code",
   "execution_count": 1,
   "id": "1122f006-9813-41d5-9806-ab47cd32c6c8",
   "metadata": {},
   "outputs": [],
   "source": [
    "import pandas as pd\n",
    "import matplotlib.pyplot as plt"
   ]
  },
  {
   "cell_type": "code",
   "execution_count": 2,
   "id": "45ceb1d6-02d3-4d6c-b052-a56674d033ca",
   "metadata": {},
   "outputs": [],
   "source": [
    "univ = pd.read_csv('../atlasint-br/hei-br-list.csv')"
   ]
  },
  {
   "cell_type": "markdown",
   "id": "939c67f6-aa22-42a6-9c1d-eb09a6ec5e08",
   "metadata": {},
   "source": [
    "## Overview on internationalization bureau's organizational status "
   ]
  },
  {
   "cell_type": "code",
   "execution_count": 5,
   "id": "a44eec03-a03c-4c00-b5f9-fd781fd0ec67",
   "metadata": {},
   "outputs": [],
   "source": [
    "int_classes = univ['ISC'].unique().tolist(); int_classes.remove('NF'); \n",
    "int_classes = sorted(int_classes)\n",
    "translation = ['Agency','Advisory','Coordination','Directorate',\n",
    "               'Office', 'Nucleus','Dean Office','Secretary','Sector','Superintendency']\n",
    "classes_en = dict(zip(int_classes,translation))\n",
    "\n",
    "ISC_en = univ['ISC'].copy()\n",
    "\n",
    "for pt,en in classes_en.items():\n",
    "    ISC_en = ISC_en.str.replace(pt,en)\n",
    " "
   ]
  },
  {
   "cell_type": "code",
   "execution_count": 6,
   "id": "095b7afd-bbd2-43b7-ab64-4a15d225c371",
   "metadata": {},
   "outputs": [],
   "source": [
    "a,b,c = ISC_en.value_counts().keys().tolist(), ISC_en.value_counts().values, ISC_en.value_counts(normalize=True).values"
   ]
  },
  {
   "cell_type": "code",
   "execution_count": 7,
   "id": "dd6b920d-2929-4389-b1f8-d16ea4191e5b",
   "metadata": {},
   "outputs": [
    {
     "data": {
      "text/html": [
       "<div>\n",
       "<style scoped>\n",
       "    .dataframe tbody tr th:only-of-type {\n",
       "        vertical-align: middle;\n",
       "    }\n",
       "\n",
       "    .dataframe tbody tr th {\n",
       "        vertical-align: top;\n",
       "    }\n",
       "\n",
       "    .dataframe thead th {\n",
       "        text-align: right;\n",
       "    }\n",
       "</style>\n",
       "<table border=\"1\" class=\"dataframe\">\n",
       "  <thead>\n",
       "    <tr style=\"text-align: right;\">\n",
       "      <th></th>\n",
       "      <th>Class</th>\n",
       "      <th>Frequency</th>\n",
       "      <th>Percentage</th>\n",
       "    </tr>\n",
       "  </thead>\n",
       "  <tbody>\n",
       "    <tr>\n",
       "      <th>0</th>\n",
       "      <td>Advisory</td>\n",
       "      <td>33</td>\n",
       "      <td>0.305556</td>\n",
       "    </tr>\n",
       "    <tr>\n",
       "      <th>1</th>\n",
       "      <td>Directorate</td>\n",
       "      <td>20</td>\n",
       "      <td>0.185185</td>\n",
       "    </tr>\n",
       "    <tr>\n",
       "      <th>2</th>\n",
       "      <td>Secretary</td>\n",
       "      <td>16</td>\n",
       "      <td>0.148148</td>\n",
       "    </tr>\n",
       "    <tr>\n",
       "      <th>3</th>\n",
       "      <td>Coordination</td>\n",
       "      <td>12</td>\n",
       "      <td>0.111111</td>\n",
       "    </tr>\n",
       "    <tr>\n",
       "      <th>4</th>\n",
       "      <td>Office</td>\n",
       "      <td>8</td>\n",
       "      <td>0.074074</td>\n",
       "    </tr>\n",
       "    <tr>\n",
       "      <th>5</th>\n",
       "      <td>Dean Office</td>\n",
       "      <td>5</td>\n",
       "      <td>0.046296</td>\n",
       "    </tr>\n",
       "    <tr>\n",
       "      <th>6</th>\n",
       "      <td>NF</td>\n",
       "      <td>5</td>\n",
       "      <td>0.046296</td>\n",
       "    </tr>\n",
       "    <tr>\n",
       "      <th>7</th>\n",
       "      <td>Superintendency</td>\n",
       "      <td>3</td>\n",
       "      <td>0.027778</td>\n",
       "    </tr>\n",
       "    <tr>\n",
       "      <th>8</th>\n",
       "      <td>Agency</td>\n",
       "      <td>3</td>\n",
       "      <td>0.027778</td>\n",
       "    </tr>\n",
       "    <tr>\n",
       "      <th>9</th>\n",
       "      <td>Nucleus</td>\n",
       "      <td>2</td>\n",
       "      <td>0.018519</td>\n",
       "    </tr>\n",
       "    <tr>\n",
       "      <th>10</th>\n",
       "      <td>Sector</td>\n",
       "      <td>1</td>\n",
       "      <td>0.009259</td>\n",
       "    </tr>\n",
       "  </tbody>\n",
       "</table>\n",
       "</div>"
      ],
      "text/plain": [
       "              Class  Frequency  Percentage\n",
       "0          Advisory         33    0.305556\n",
       "1       Directorate         20    0.185185\n",
       "2         Secretary         16    0.148148\n",
       "3      Coordination         12    0.111111\n",
       "4            Office          8    0.074074\n",
       "5       Dean Office          5    0.046296\n",
       "6                NF          5    0.046296\n",
       "7   Superintendency          3    0.027778\n",
       "8            Agency          3    0.027778\n",
       "9           Nucleus          2    0.018519\n",
       "10           Sector          1    0.009259"
      ]
     },
     "execution_count": 7,
     "metadata": {},
     "output_type": "execute_result"
    }
   ],
   "source": [
    "pd.DataFrame({'Class':a,'Frequency':b,'Percentage':c})"
   ]
  }
 ],
 "metadata": {
  "kernelspec": {
   "display_name": "Python 3 (ipykernel)",
   "language": "python",
   "name": "python3"
  },
  "language_info": {
   "codemirror_mode": {
    "name": "ipython",
    "version": 3
   },
   "file_extension": ".py",
   "mimetype": "text/x-python",
   "name": "python",
   "nbconvert_exporter": "python",
   "pygments_lexer": "ipython3",
   "version": "3.7.12"
  }
 },
 "nbformat": 4,
 "nbformat_minor": 5
}
