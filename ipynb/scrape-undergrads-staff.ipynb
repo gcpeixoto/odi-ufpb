{
 "cells": [
  {
   "cell_type": "markdown",
   "id": "8e74032d-2da7-4832-816d-7e76add0eccb",
   "metadata": {},
   "source": [
    "## Scrape undergraduate courses"
   ]
  },
  {
   "cell_type": "code",
   "execution_count": 1,
   "id": "5a022628-9716-4e88-bbe8-1ccb859051b4",
   "metadata": {},
   "outputs": [],
   "source": [
    "from bs4 import BeautifulSoup\n",
    "from urllib.request import urlopen\n",
    "import pandas as pd\n",
    "import os, pickle"
   ]
  },
  {
   "cell_type": "markdown",
   "id": "10c3aa95-b301-486a-8990-d98cb895aa69",
   "metadata": {},
   "source": [
    "## Customize file names"
   ]
  },
  {
   "cell_type": "code",
   "execution_count": 2,
   "id": "60d2b86d-2cc9-461e-bf76-07bdb830ed96",
   "metadata": {},
   "outputs": [],
   "source": [
    "staff_str = 'ufpb-student-staff'"
   ]
  },
  {
   "cell_type": "code",
   "execution_count": 3,
   "id": "1bf6887f-69cd-4b15-9d2a-03d994e8704d",
   "metadata": {},
   "outputs": [],
   "source": [
    "# read list of courses and their associated links\n",
    "\n",
    "cursos = pd.read_csv('../input/lista-cursos-THE.csv')\n",
    "\n",
    "# course names and URLs\n",
    "cnames = cursos['nome_curso_grad'].values\n",
    "centers = cursos['sigla_centro'].values\n",
    "modals = cursos['modalidade'].values\n",
    "urls = cursos['url_curso_grad'].values\n",
    "\n",
    "# if on, retrieve data from UFPB portal\n",
    "scrape_on = False\n",
    "\n",
    "# if on, export sheets to CSV\n",
    "to_csv = True"
   ]
  },
  {
   "cell_type": "code",
   "execution_count": 4,
   "id": "fff1eb66-3178-441a-b0fc-15feb8fb4fe3",
   "metadata": {},
   "outputs": [],
   "source": [
    "staff_pkl = os.path.join(os.pardir,'pkl',staff_str + '.pkl')\n",
    "\n",
    "if scrape_on:\n",
    "\n",
    "    data_courses = {}\n",
    "\n",
    "    for e in range(len(urls)):\n",
    "\n",
    "        # course name\n",
    "        c_name = cnames[e] \n",
    "        \n",
    "        # center acronym\n",
    "        c_acr = centers[e] \n",
    "        \n",
    "        # modality\n",
    "        modal = modals[e] \n",
    "\n",
    "        # course link\n",
    "        url = urls[e]\n",
    "\n",
    "\n",
    "        # get link to page of student list\n",
    "        bs = BeautifulSoup(urlopen(url).read(),'html.parser')\n",
    "        alink = [ a['href'] \n",
    "                    for a in bs.findAll('a',{'class':'alunos'},\n",
    "                                                 href=True) ][0]\n",
    "\n",
    "        # form full link\n",
    "        alink = 'https://sigaa.ufpb.br/sigaa/public/curso/' + alink\n",
    "\n",
    "        # request to page of student list\n",
    "        bsa = BeautifulSoup(urlopen(alink).read(),'html.parser')\n",
    "\n",
    "        # get list of students\n",
    "        aux = []\n",
    "        for m in bsa.findAll('td'):\n",
    "            aux.append(m.getText().strip())\n",
    "\n",
    "        proc = aux[:-1]        \n",
    "        \n",
    "        # nome/matr. \n",
    "        name = proc[1::2]\n",
    "        matr = proc[0::2] \n",
    "        students = dict(zip(name,matr))\n",
    "\n",
    "        # number of students\n",
    "        n_students = len(students)\n",
    "\n",
    "        stud_info = {}\n",
    "        stud_info['lista-discentes'] = students\n",
    "        stud_info['link'] = alink\n",
    "        stud_info['n-discentes'] = n_students\n",
    "        #print(f'{alink} : {n_students}')\n",
    "\n",
    "        aux = f'{c_name}:{modal}:{c_acr}'\n",
    "        data_courses[aux] = stud_info\n",
    "\n",
    "\n",
    "    with open(staff_pkl,'wb') as f:\n",
    "        pickle.dump(data_courses,file=f)\n",
    "        \n",
    "else:\n",
    "    \n",
    "    with open(staff_pkl,'rb') as f:\n",
    "        data_courses = pickle.load(f,encoding='utf8')    "
   ]
  },
  {
   "cell_type": "markdown",
   "id": "46867bb6-bec1-4d22-8a3f-34d9a8089e1f",
   "metadata": {},
   "source": [
    "## Report - no classification"
   ]
  },
  {
   "cell_type": "code",
   "execution_count": 5,
   "id": "25bce873-d823-403f-b40e-e0786b38cee8",
   "metadata": {},
   "outputs": [],
   "source": [
    "staff_xlsx = os.path.join(os.pardir,'xlsx','no-class','undergrads')\n",
    "\n",
    "\n",
    "a,b,c,d,e = [],[],[],[],[]\n",
    "for k,v in data_courses.items():\n",
    "    cur,mod,cen = k.split(':')\n",
    "    a.append(cur)\n",
    "    b.append(mod)\n",
    "    c.append(cen)    \n",
    "    d.append(v['link'])\n",
    "    e.append(v['n-discentes'])\n",
    "\n",
    "\n",
    "df_curso = pd.DataFrame({'nome_curso_grad':a,'modalidade':b,'centro':c,'lista_discentes':d,'n_discentes':e})\n",
    "    \n",
    "file_save = os.path.join(staff_xlsx,'TOTAL.xlsx')\n",
    "df_curso.to_excel(file_save,index=False,encoding='utf-8')"
   ]
  },
  {
   "cell_type": "code",
   "execution_count": 6,
   "id": "790c0c55-b33e-458c-82a8-69c00d93022a",
   "metadata": {},
   "outputs": [
    {
     "data": {
      "text/plain": [
       "(113, 120)"
      ]
     },
     "execution_count": 6,
     "metadata": {},
     "output_type": "execute_result"
    }
   ],
   "source": [
    "# checar diferença\n",
    "\n",
    "len(df_curso), len(cursos)"
   ]
  },
  {
   "cell_type": "markdown",
   "id": "c87e6ff0-aa36-4b82-acd5-8f8d3496977f",
   "metadata": {},
   "source": [
    "## Report - THE classification"
   ]
  },
  {
   "cell_type": "code",
   "execution_count": 7,
   "id": "d71332fa-1b3a-4abb-8fc1-2b00a210711b",
   "metadata": {},
   "outputs": [],
   "source": [
    "''' CHECK\n",
    "\n",
    "staff_xlsx_the = os.path.join(os.pardir,'xlsx','the','undergrads')\n",
    "\n",
    "# get THE classes        \n",
    "the_classes = set(cursos['THE_classificacao'])\n",
    "\n",
    "# sums members per THE class\n",
    "totals_the = {}\n",
    "\n",
    "for c in the_classes:    \n",
    "    aux = []\n",
    "    sub = cursos[cursos['THE_classificacao'] == c]\n",
    "    \n",
    "    \n",
    "    for nc in sub['nome_curso_grad'].values:\n",
    "        n_stud = df_curso[df_curso['nome_curso_grad'] == nc]['n_discentes'].values[0]\n",
    "        aux.append(n_stud)\n",
    "    totals_the[c] = sum(aux)\n",
    "\n",
    "# splits by areas\n",
    "areas,ns = [],[]\n",
    "for k,v in totals_the.items():\n",
    "    areas.append(k)\n",
    "    ns.append(v)\n",
    "\n",
    "file_save = os.path.join(staff_xlsx_the, 'TOTAL.xlsx')    \n",
    "df_the = pd.DataFrame({'areas':areas,'discentes':ns}).sort_values(by='areas')\n",
    "df_the.to_excel(file_save,index=False)\n",
    "\n",
    "''';"
   ]
  }
 ],
 "metadata": {
  "kernelspec": {
   "display_name": "Python 3 (ipykernel)",
   "language": "python",
   "name": "python3"
  },
  "language_info": {
   "codemirror_mode": {
    "name": "ipython",
    "version": 3
   },
   "file_extension": ".py",
   "mimetype": "text/x-python",
   "name": "python",
   "nbconvert_exporter": "python",
   "pygments_lexer": "ipython3",
   "version": "3.7.12"
  }
 },
 "nbformat": 4,
 "nbformat_minor": 5
}
