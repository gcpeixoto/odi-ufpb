{
 "cells": [
  {
   "cell_type": "markdown",
   "id": "d62dae21-2a2e-42d4-9a83-d440459db420",
   "metadata": {},
   "source": [
    "## Script to process Plataforma Sucupira's sheets \n",
    "\n",
    "Proposal is to return the updated list of UFPB's graduate programs."
   ]
  },
  {
   "cell_type": "code",
   "execution_count": 1,
   "id": "ae3a6790-0161-4387-a7d5-225f2ccee12f",
   "metadata": {},
   "outputs": [],
   "source": [
    "# LISTA DE PPGs - PLATAFORMA SUCUPIRA\n",
    "\n",
    "# Graduate program tables are found on Sucupira platform.\n",
    "# Here, he ideal solution is to implement JS scraping with\n",
    "# selenium, dryscraper or equivalent tool.\n",
    "# However, this is cumbersome for the simple scraping we need. \n",
    "# For the moment, the workaround is to download \n",
    "# the XLS files from these links and handle them.\n",
    "# REMARK: the spreadsheets might be updated by CAPES periodically\n",
    "# or at a 4-year basis after the QUADRIENAL.\n",
    "\n",
    "#sucupira_links = {\n",
    "#    'UFPB-JP':'https://sucupira.capes.gov.br/sucupira/public/consultas/coleta/programa/quantitativos/quantitativoPrograma.jsf?areaAvaliacao=0&cdRegiao=2&sgUf=PB&ies=338423',\n",
    "#    'UFPB-Areia':'https://sucupira.capes.gov.br/sucupira/public/consultas/coleta/programa/quantitativos/quantitativoPrograma.jsf?areaAvaliacao=0&cdRegiao=2&sgUf=PB&ies=338424',\n",
    "#    'UFPB-RioTinto':'https://sucupira.capes.gov.br/sucupira/public/consultas/coleta/programa/quantitativos/quantitativoPrograma.jsf?areaAvaliacao=0&cdRegiao=2&sgUf=PB&ies=338425'}    \n",
    "\n",
    "\n",
    "# TABELA DE ÁREAS DE CONHECIMENTO\n",
    "# http://lattes.cnpq.br/documents/11871/24930/TabeladeAreasdoConhecimento.pdf/d192ff6b-3e0a-4074-a74d-c280521bd5f7"
   ]
  },
  {
   "cell_type": "code",
   "execution_count": 2,
   "id": "4ff3403c-173c-44b4-8ae2-7b73fd1f5eec",
   "metadata": {},
   "outputs": [],
   "source": [
    "import pandas as pd\n",
    "import numpy as np\n",
    "import os"
   ]
  },
  {
   "cell_type": "code",
   "execution_count": 3,
   "id": "d3cbb63f-590f-4d33-9c61-ce4a8d5a3de3",
   "metadata": {},
   "outputs": [],
   "source": [
    "base = '../input/sucupira/'\n",
    "\n",
    "sheets = os.listdir(base)\n",
    "\n",
    "ok = {}\n",
    "for prefix in ['JP','AREIA','RT']:\n",
    "    name = f'UFPB-{prefix}.xls'\n",
    "    if sheets.count(name) == 1:\n",
    "        ok[name] = True\n",
    "    else:\n",
    "        ok[name] = False\n",
    "                    \n",
    "if not all(ok.values()):\n",
    "    raise NameError(f'Sucupira files should be renamed to:\\n {list(ok.keys())}')\n",
    "    \n",
    "\n",
    "fix = {'UFPB-JP':'João Pessoa',\n",
    "       'UFPB-AREIA':'Areia',\n",
    "       'UFPB-RT':'Rio Tinto'}    \n",
    "\n",
    "modalidade = {'ME':'Mestrado',\n",
    "              'DO':'Doutorado',\n",
    "              'MP':'Mestrado Profissional',\n",
    "              'DP':'Doutorado Profissional'}"
   ]
  },
  {
   "cell_type": "code",
   "execution_count": 5,
   "id": "6dbb692f-a6cf-403b-bc1f-686ae291785a",
   "metadata": {},
   "outputs": [],
   "source": [
    "dfs = []\n",
    "for f in ok.keys():\n",
    "    campus,_ = f.split('.')\n",
    "    df = pd.read_excel(base + f)\n",
    "    df['Sigla da IES'] = df['Sigla da IES'].str.replace(campus,fix[campus])\n",
    "    c = np.full(len(df),fix[campus])\n",
    "    df['Campus'] = c    \n",
    "    df = df[['Nome do Programa', 'Campus','Código do Programa', 'ME', 'DO', 'MP', 'DP']]\n",
    "    dfs.append(df)\n",
    "    \n",
    "lista_ppg = pd.concat(dfs)\n",
    "lista_ppg['Nome do Programa'] = lista_ppg['Nome do Programa'].apply(lambda x: x.upper())\n",
    "lista_ppg = lista_ppg.sort_values(by='Nome do Programa')\n",
    "lista_ppg = lista_ppg.rename(columns={'Nome do Programa':'nome_ppg','Campus':'campus','Código do Programa':'codigo_CAPES'})\n",
    "lista_ppg.to_csv(os.path.join(os.pardir,'input','lista-ppg.csv'))"
   ]
  }
 ],
 "metadata": {
  "kernelspec": {
   "display_name": "Python 3 (ipykernel)",
   "language": "python",
   "name": "python3"
  },
  "language_info": {
   "codemirror_mode": {
    "name": "ipython",
    "version": 3
   },
   "file_extension": ".py",
   "mimetype": "text/x-python",
   "name": "python",
   "nbconvert_exporter": "python",
   "pygments_lexer": "ipython3",
   "version": "3.7.12"
  }
 },
 "nbformat": 4,
 "nbformat_minor": 5
}
